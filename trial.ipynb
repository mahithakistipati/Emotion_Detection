{
 "cells": [
  {
   "cell_type": "code",
   "execution_count": 13,
   "metadata": {},
   "outputs": [
    {
     "name": "stderr",
     "output_type": "stream",
     "text": [
      "WARNING:absl:Compiled the loaded model, but the compiled metrics have yet to be built. `model.compile_metrics` will be empty until you train or evaluate the model.\n",
      "WARNING:absl:Error in loading the saved optimizer state. As a result, your model is starting with a freshly initialized optimizer.\n"
     ]
    },
    {
     "name": "stdout",
     "output_type": "stream",
     "text": [
      "\u001b[1m1/1\u001b[0m \u001b[32m━━━━━━━━━━━━━━━━━━━━\u001b[0m\u001b[37m\u001b[0m \u001b[1m1s\u001b[0m 590ms/step\n",
      "\u001b[1m1/1\u001b[0m \u001b[32m━━━━━━━━━━━━━━━━━━━━\u001b[0m\u001b[37m\u001b[0m \u001b[1m0s\u001b[0m 47ms/step\n",
      "\u001b[1m1/1\u001b[0m \u001b[32m━━━━━━━━━━━━━━━━━━━━\u001b[0m\u001b[37m\u001b[0m \u001b[1m0s\u001b[0m 47ms/step\n",
      "\u001b[1m1/1\u001b[0m \u001b[32m━━━━━━━━━━━━━━━━━━━━\u001b[0m\u001b[37m\u001b[0m \u001b[1m0s\u001b[0m 39ms/step\n",
      "\u001b[1m1/1\u001b[0m \u001b[32m━━━━━━━━━━━━━━━━━━━━\u001b[0m\u001b[37m\u001b[0m \u001b[1m0s\u001b[0m 51ms/step\n",
      "Predicted emotion: neutral\n"
     ]
    }
   ],
   "source": [
    "import cv2\n",
    "import numpy as np\n",
    "from tensorflow.keras.models import load_model\n",
    "\n",
    "# Load the trained model\n",
    "model = load_model(r\"C:\\Users\\mahit\\OneDrive\\Desktop\\Emotion Detection\\model 4.h5\")\n",
    "\n",
    "# Define emotion labels\n",
    "emotion_labels = ['angry', 'sad', 'happy', 'disgusted', 'fearful', 'surprised', 'neutral']\n",
    "\n",
    "def predict_emotion(image_path):\n",
    "    # Load and preprocess the image\n",
    "    img = cv2.imread(image_path)\n",
    "    img = cv2.cvtColor(img, cv2.COLOR_BGR2GRAY)  # Convert to grayscale if needed\n",
    "    img = cv2.resize(img, (48, 48))  \n",
    "    img = np.expand_dims(img, axis=0)  \n",
    "    img = np.expand_dims(img, axis=-1)  \n",
    "\n",
    "    # Normalize image\n",
    "    img = img / 255.0\n",
    "    \n",
    "    # Predict emotion\n",
    "    predictions = model.predict(img)\n",
    "    \n",
    "    # Get predicted emotion label\n",
    "    predicted_label = emotion_labels[np.argmax(predictions)]\n",
    "    \n",
    "    return predicted_label\n",
    "\n",
    "# Example usage\n",
    "#image_path = r'C:\\Users\\mahit\\OneDrive\\Desktop\\Emotion Detection\\fer2013\\test\\angry\\im194.png'\n",
    "#image_path=r'C:\\Users\\mahit\\OneDrive\\Desktop\\Emotion Detection\\headshot.jpeg'\n",
    "#image_path = r'C:\\Users\\mahit\\OneDrive\\Desktop\\Emotion Detection\\fer2013\\test\\neutral\\im194.png'\n",
    "image_path = r'C:\\Users\\mahit\\OneDrive\\Desktop\\Emotion Detection\\fer2013\\test\\surprised\\im194.png'\n",
    "image_path3 = r'C:\\Users\\mahit\\OneDrive\\Desktop\\Emotion Detection\\fer2013\\test\\fearful\\im194.png'\n",
    "image_path4 = r'C:\\Users\\mahit\\OneDrive\\Desktop\\Emotion Detection\\fer2013\\test\\happy\\im194.png'\n",
    "\n",
    "\n",
    "\n",
    "predicted_emotion = predict_emotion(image_path)\n",
    "redicted_emotion1 = predict_emotion(image_path1)\n",
    "redicted_emotion = predict_emotion(image_path2)\n",
    "redicted_emotion = predict_emotion(image_path3)\n",
    "redicted_emotion = predict_emotion(image_path4)\n",
    "print(\"Predicted emotion:\", predicted_emotion)\n"
   ]
  },
  {
   "cell_type": "code",
   "execution_count": 15,
   "metadata": {},
   "outputs": [
    {
     "name": "stdout",
     "output_type": "stream",
     "text": [
      "<Sequential name=sequential_1, built=True>\n"
     ]
    }
   ],
   "source": [
    "print(model)"
   ]
  }
 ],
 "metadata": {
  "kernelspec": {
   "display_name": "mahitha",
   "language": "python",
   "name": "python3"
  },
  "language_info": {
   "codemirror_mode": {
    "name": "ipython",
    "version": 3
   },
   "file_extension": ".py",
   "mimetype": "text/x-python",
   "name": "python",
   "nbconvert_exporter": "python",
   "pygments_lexer": "ipython3",
   "version": "3.11.5"
  }
 },
 "nbformat": 4,
 "nbformat_minor": 2
}
